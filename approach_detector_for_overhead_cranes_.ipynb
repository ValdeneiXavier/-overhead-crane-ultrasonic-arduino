{
  "nbformat": 4,
  "nbformat_minor": 0,
  "metadata": {
    "colab": {
      "name": " approach detector for overhead cranes .ipynb",
      "provenance": [],
      "collapsed_sections": [],
      "authorship_tag": "ABX9TyPiFaggZ6fir++MU1A7+Su1",
      "include_colab_link": true
    },
    "kernelspec": {
      "name": "python3",
      "display_name": "Python 3"
    },
    "language_info": {
      "name": "python"
    }
  },
  "cells": [
    {
      "cell_type": "markdown",
      "metadata": {
        "id": "view-in-github",
        "colab_type": "text"
      },
      "source": [
        "<a href=\"https://colab.research.google.com/github/ValdeneiXavier/ValdeneiXavier/blob/main/approach_detector_for_overhead_cranes_.ipynb\" target=\"_parent\"><img src=\"https://colab.research.google.com/assets/colab-badge.svg\" alt=\"Open In Colab\"/></a>"
      ]
    },
    {
      "cell_type": "markdown",
      "source": [
        "ESTE CÓDIGO TRATA-SE DE UM PEQUENO PROJETO ONDE EU PROCUREI SOLUCIONAR, PROBLEMA DE ERROS OCORRIDOS EM SENSORES DE FIM DE CURSO E OUTROS SENSORES QUE ESTÃO EXPOSTOS A EXTRESSES MECÂNICOS, ENTÃO FIZ ATRAVÉS DE ARDUINO, O SENSOR ULTRASSONICO DO TIPO HC,LER A DISTANCIA ENTRE ELAS E INICIAR UMA FRENAGEM GRADATIVA, EVITANDO ASSIM COLISOES ENTRE AS PONTES E/OU COLISÕES E SOLAVANCOS ENTRE OS CARRINHOS E AS CREMALHEIRAS DOS REDUTORES.(OS RELÉS DE SAÍDA DO ARDUINO ESTÃO LIGADOS NOS PINOS DE CONTROLE DOS INVERSORES DE FREQUÊNCIA). "
      ],
      "metadata": {
        "id": "mc7JYPrTMsv0"
      }
    },
    {
      "cell_type": "markdown",
      "source": [
        "Definição de Pinos"
      ],
      "metadata": {
        "id": "zpNtHMxlgaAi"
      }
    },
    {
      "cell_type": "code",
      "execution_count": null,
      "metadata": {
        "id": "BsxHf09lgUpf"
      },
      "outputs": [],
      "source": [
        "\n",
        "#define braking 2\n",
        "#define locked 3\n",
        "int cm = 0;\n",
        "int limit =0;\n",
        "int pin =0;\n",
        "char Str1[] =\"\";\n",
        "\n"
      ]
    },
    {
      "cell_type": "markdown",
      "source": [
        "Instanciando Objeto *Sensor Ultrassônico*"
      ],
      "metadata": {
        "id": "9lFrlqJMghEI"
      }
    },
    {
      "cell_type": "code",
      "source": [
        "long readUltrasonicDistance(int triggerPin, int echoPin)\n",
        "{\n",
        "  pinMode(triggerPin, OUTPUT);  // Clear the trigger\n",
        "  digitalWrite(triggerPin, LOW);\n",
        "  delayMicroseconds(2);\n",
        "  // Sets the trigger pin to HIGH state for 10 microseconds\n",
        "  digitalWrite(triggerPin, HIGH);\n",
        "  delayMicroseconds(10);\n",
        "  digitalWrite(triggerPin, LOW);\n",
        "  pinMode(echoPin, INPUT);\n",
        "  // Reads the echo pin, and returns the sound wave travel time in microseconds\n",
        "  return pulseIn(echoPin, HIGH);\n",
        "}"
      ],
      "metadata": {
        "id": "7Cf3-BPmgczS"
      },
      "execution_count": null,
      "outputs": []
    },
    {
      "cell_type": "markdown",
      "source": [
        "Setup de Pinos e Serial Begin"
      ],
      "metadata": {
        "id": "WF5vAHz-MING"
      }
    },
    {
      "cell_type": "code",
      "source": [
        "void setup()\n",
        "{\n",
        "   pinMode(braking, OUTPUT);\n",
        "  pinMode(locked, OUTPUT);\n",
        "  Serial.begin(9600);\n",
        "}"
      ],
      "metadata": {
        "id": "Hq7c6sz7glBc"
      },
      "execution_count": null,
      "outputs": []
    },
    {
      "cell_type": "markdown",
      "source": [
        "Funçao Print , pra acompanharmos os testes na Serial, mas tambem poderíamos Incluir o print de um Display i2C."
      ],
      "metadata": {
        "id": "eSu5sqIBMPRe"
      }
    },
    {
      "cell_type": "code",
      "source": [
        "void print(){\n",
        "   // measure the ping time in cm\n",
        "  cm = 0.01723 * readUltrasonicDistance(7, 7);\n",
        "  // convert to inches by dividing by 2.54\n",
        "  \n",
        "\n",
        "  Serial.print(cm);\n",
        "  Serial.println(\"cm\");\n",
        "\n",
        "  delay(100); // Wait for 100 millisecond(s)\n",
        "}"
      ],
      "metadata": {
        "id": "iP9ozNp5gvxa"
      },
      "execution_count": null,
      "outputs": []
    },
    {
      "cell_type": "markdown",
      "source": [
        "Função que irá verificar a Aproximação entre as Pontes"
      ],
      "metadata": {
        "id": "3L-xIiqhMjBi"
      }
    },
    {
      "cell_type": "code",
      "source": [
        "void approx(int pin,int limit, String Str1)\n",
        "{\n",
        "  if(cm<=limit)\n",
        "  {\n",
        "    \n",
        "\n",
        "     Serial.println(Str1);\n",
        "     digitalWrite(pin, HIGH);\n",
        "  }\n",
        "    digitalWrite(pin, LOW);\n",
        "}"
      ],
      "metadata": {
        "id": "CNXzhvWJg0DG"
      },
      "execution_count": null,
      "outputs": []
    },
    {
      "cell_type": "code",
      "source": [
        "\n",
        "void loop()\n",
        "{\n",
        " print();\n",
        " if(cm>60)\n",
        " {\n",
        " approx(braking,80,\"Iniciando Frenagem\");\n",
        " }\n",
        "  \n",
        " approx(locked,60,\"Parado, devido pontes muito Proximas\");\n",
        "  \n",
        "}\n"
      ],
      "metadata": {
        "id": "bOTtBXhEg2cE"
      },
      "execution_count": null,
      "outputs": []
    }
  ]
}